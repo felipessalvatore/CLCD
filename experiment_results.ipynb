{
 "cells": [
  {
   "cell_type": "markdown",
   "metadata": {},
   "source": [
    "# Experiment Results"
   ]
  },
  {
   "cell_type": "code",
   "execution_count": 1,
   "metadata": {},
   "outputs": [],
   "source": [
    "import numpy as np\n",
    "import matplotlib.pyplot as plt\n",
    "import numpy as np\n",
    "import pandas as pd\n",
    "import seaborn as sns"
   ]
  },
  {
   "cell_type": "code",
   "execution_count": 2,
   "metadata": {},
   "outputs": [],
   "source": [
    "def plot_series(df_,\n",
    "                title,\n",
    "                xlabel,\n",
    "                ylabel,\n",
    "                path,\n",
    "                figsize=(10, 5)):\n",
    "    fig, ax = plt.subplots(1, 1, figsize=figsize)\n",
    "    sns.set(style=\"whitegrid\")\n",
    "    ax = sns.lineplot(data=df_,\n",
    "             palette=\"tab20\",\n",
    "             linewidth=2.5,\n",
    "             markers=True,\n",
    "             dashes=True)\n",
    "    fig.suptitle(title, fontsize=24, fontweight='bold')\n",
    "    ax.set_xlabel(xlabel, fontsize=12)\n",
    "    ax.set_ylabel(ylabel, fontsize=12)\n",
    "    plt.savefig(path)"
   ]
  },
  {
   "cell_type": "markdown",
   "metadata": {},
   "source": [
    "## Full data"
   ]
  },
  {
   "cell_type": "code",
   "execution_count": 3,
   "metadata": {},
   "outputs": [
    {
     "name": "stdout",
     "output_type": "stream",
     "text": [
      "ENG to ENG 100%\n",
      "baseline = 53.7\n",
      "rnn = 55.0\n",
      "gru = 57.9\n",
      "lstm = 54.0\n",
      "bert = 94.5\n"
     ]
    }
   ],
   "source": [
    "baseline = [52.1, 50.7, 50.5, 63.5, 50.0, 54.9, 54.1]\n",
    "rnn = [50.0, 50.1, 50.2 ,50.0, 50.1 ,84.4 ,50.0]\n",
    "gru = [50.4, 50.1, 52.7, 66.1 , 50.0, 82.7, 53.1]\n",
    "lstm = [50.4, 50.8, 51.3 , 50.1 , 50.0, 75.1 , 50.0]\n",
    "bert = [99.7, 100, 100, 84.4, 99.7, 87.5, 90.0]\n",
    "\n",
    "assert len(baseline) == len(rnn) == len(gru) == len(lstm) == len(bert) \n",
    "\n",
    "baseline = np.mean(baseline)\n",
    "rnn = np.mean(rnn)\n",
    "gru = np.mean(gru)\n",
    "lstm = np.mean(lstm)\n",
    "bert = np.mean(bert)\n",
    "\n",
    "print(\"ENG to ENG 100%\")\n",
    "print(\"baseline = {:.1f}\".format(baseline))\n",
    "print(\"rnn = {:.1f}\".format(rnn))\n",
    "print(\"gru = {:.1f}\".format(gru))\n",
    "print(\"lstm = {:.1f}\".format(lstm))\n",
    "print(\"bert = {:.1f}\".format(bert))"
   ]
  },
  {
   "cell_type": "code",
   "execution_count": 4,
   "metadata": {},
   "outputs": [
    {
     "name": "stdout",
     "output_type": "stream",
     "text": [
      "PT to PT 100%\n",
      "baseline = 54.4\n",
      "rnn = 52.6\n",
      "gru = 57.6\n",
      "lstm = 52.6\n",
      "bert = 91.4\n"
     ]
    }
   ],
   "source": [
    "baseline = [53.9, 49.8, 50.9, 61.7, 49.9, 58.9, 55.4]\n",
    "rnn = [50.1, 50.0, 50.0, 50.0, 50.1, 66.4, 51.6]\n",
    "gru = [50.2, 50.0, 50.4, 70.6, 50.8, 79.7, 51.6]\n",
    "lstm = [50.0, 50.0, 50.0, 50.1, 50.0, 67.2, 51.1]\n",
    "bert = [99.9, 99.9, 100, 78.7, 99.8, 79.1, 82.7]\n",
    "\n",
    "assert len(baseline) == len(rnn) == len(gru) == len(lstm) == len(bert) \n",
    "\n",
    "baseline = np.mean(baseline)\n",
    "rnn = np.mean(rnn)\n",
    "gru = np.mean(gru)\n",
    "lstm = np.mean(lstm)\n",
    "bert = np.mean(bert)\n",
    "\n",
    "print(\"PT to PT 100%\")\n",
    "print(\"baseline = {:.1f}\".format(baseline))\n",
    "print(\"rnn = {:.1f}\".format(rnn))\n",
    "print(\"gru = {:.1f}\".format(gru))\n",
    "print(\"lstm = {:.1f}\".format(lstm))\n",
    "print(\"bert = {:.1f}\".format(bert))"
   ]
  },
  {
   "cell_type": "code",
   "execution_count": 5,
   "metadata": {},
   "outputs": [
    {
     "name": "stdout",
     "output_type": "stream",
     "text": [
      "ENG to ENG best results\n",
      "baseline = 53.9\n",
      "rnn = 55.4\n",
      "gru = 58.0\n",
      "lstm = 56.2\n",
      "bert = 96.1\n"
     ]
    }
   ],
   "source": [
    "baseline = [52.1, 50.7, 51.0, 63.5, 50.6, 55.5, 54.1]\n",
    "rnn = [50.1, 50.2, 51.7, 50.3, 50.1, 84.4, 50.9]\n",
    "gru = [50.6, 50.2, 52.7, 66.1 , 50.2, 82.7, 53.7]\n",
    "lstm = [50.4, 50.8, 51.6 , 65.3 , 50.2, 75.1 , 50.0]\n",
    "bert = [99.8, 100, 100, 90.5, 100, 87.5, 94.6]\n",
    "\n",
    "assert len(baseline) == len(rnn) == len(gru) == len(lstm) == len(bert) \n",
    "\n",
    "baseline = np.mean(baseline)\n",
    "rnn = np.mean(rnn)\n",
    "gru = np.mean(gru)\n",
    "lstm = np.mean(lstm)\n",
    "bert = np.mean(bert)\n",
    "\n",
    "print(\"ENG to ENG best results\")\n",
    "print(\"baseline = {:.1f}\".format(baseline))\n",
    "print(\"rnn = {:.1f}\".format(rnn))\n",
    "print(\"gru = {:.1f}\".format(gru))\n",
    "print(\"lstm = {:.1f}\".format(lstm))\n",
    "print(\"bert = {:.1f}\".format(bert))"
   ]
  },
  {
   "cell_type": "markdown",
   "metadata": {},
   "source": [
    "## Intersection"
   ]
  },
  {
   "cell_type": "code",
   "execution_count": 6,
   "metadata": {},
   "outputs": [
    {
     "name": "stdout",
     "output_type": "stream",
     "text": [
      "ENG to ENG inter\n",
      "baseline = 64.4\n",
      "rnn = 54.0\n",
      "gru = 65.9\n",
      "lstm = 54.5\n",
      "bert = 99.1\n"
     ]
    }
   ],
   "source": [
    "baseline = [82.8, 56.7, 70.7, 64.8, 49.0, 69.6, 57.0]\n",
    "rnn = [50.5, 50.1, 51.3, 50.0, 50.2, 75.1, 50.8]\n",
    "gru = [50.2, 52.5, 83.3, 86.7, 50.3, 88.5, 49.5]\n",
    "lstm = [50.0, 50.0, 50.3, 50.0, 50.4, 80.4, 50.7]\n",
    "bert = [100, 100, 100, 99.6, 99.5, 96.8, 97.5]\n",
    "\n",
    "\n",
    "assert len(baseline) == len(rnn) == len(gru) == len(lstm) == len(bert) \n",
    "\n",
    "baseline = np.mean(baseline)\n",
    "rnn = np.mean(rnn)\n",
    "gru = np.mean(gru)\n",
    "lstm = np.mean(lstm)\n",
    "bert = np.mean(bert)\n",
    "\n",
    "print(\"ENG to ENG inter\")\n",
    "print(\"baseline = {:.1f}\".format(baseline))\n",
    "print(\"rnn = {:.1f}\".format(rnn))\n",
    "print(\"gru = {:.1f}\".format(gru))\n",
    "print(\"lstm = {:.1f}\".format(lstm))\n",
    "print(\"bert = {:.1f}\".format(bert))"
   ]
  },
  {
   "cell_type": "code",
   "execution_count": 7,
   "metadata": {},
   "outputs": [
    {
     "name": "stdout",
     "output_type": "stream",
     "text": [
      "PT to PT inter\n",
      "baseline = 62.8\n",
      "rnn = 54.9\n",
      "gru = 60.7\n",
      "lstm = 56.6\n",
      "bert = 96.6\n"
     ]
    }
   ],
   "source": [
    "baseline = [87.6, 57.7, 54.1, 67.5, 50.2, 65.2, 57.3]\n",
    "rnn = [50.2, 50.4, 50.1, 50.0, 50.0, 82.6, 51.3]\n",
    "gru = [51.0, 50.8, 50.0, 83.0, 50.1, 83.4, 56.3]\n",
    "lstm = [50.1, 50.0, 50.0, 71.9, 50.0, 72.9, 51.3]\n",
    "bert = [100 , 99.8, 100, 99.2, 99.1, 91.7, 86.3]\n",
    "\n",
    "assert len(baseline) == len(rnn) == len(gru) == len(lstm) == len(bert) \n",
    "\n",
    "baseline = np.mean(baseline)\n",
    "rnn = np.mean(rnn)\n",
    "gru = np.mean(gru)\n",
    "lstm = np.mean(lstm)\n",
    "bert = np.mean(bert)\n",
    "\n",
    "print(\"PT to PT inter\")\n",
    "print(\"baseline = {:.1f}\".format(baseline))\n",
    "print(\"rnn = {:.1f}\".format(rnn))\n",
    "print(\"gru = {:.1f}\".format(gru))\n",
    "print(\"lstm = {:.1f}\".format(lstm))\n",
    "print(\"bert = {:.1f}\".format(bert))"
   ]
  },
  {
   "cell_type": "markdown",
   "metadata": {},
   "source": [
    "### improvement percentage using intersection"
   ]
  },
  {
   "cell_type": "code",
   "execution_count": 8,
   "metadata": {},
   "outputs": [
    {
     "name": "stdout",
     "output_type": "stream",
     "text": [
      "['19.9', '-1.8', '13.8', '0.9', '4.9']\n",
      "['15.4', '4.4', '5.4', '7.6', '5.7']\n"
     ]
    }
   ],
   "source": [
    "def f_per(new, old):\n",
    "    r = ((new - old) / old) * 100\n",
    "    r = \"{:.1f}\".format(r)\n",
    "    return r\n",
    "\n",
    "# ENG to ENG\n",
    "old = [53.7, 55.0, 57.9, 54.0, 94.5]\n",
    "\n",
    "# ENG to ENG inter\n",
    "\n",
    "new =[64.4, 54.0, 65.9, 54.5, 99.1]\n",
    "\n",
    "# PT to PT\n",
    "old_pt = [54.4, 52.6, 57.6, 52.6, 91.4]\n",
    "\n",
    "# PT to PT inter\n",
    "new_pt =[62.8, 54.9, 60.7, 56.6, 96.6]\n",
    "\n",
    "print(list(map(f_per, new, old)))\n",
    "print(list(map(f_per, new_pt, old_pt)))"
   ]
  },
  {
   "cell_type": "markdown",
   "metadata": {},
   "source": [
    "## Normal dataset different sizes"
   ]
  },
  {
   "cell_type": "code",
   "execution_count": 9,
   "metadata": {},
   "outputs": [
    {
     "name": "stdout",
     "output_type": "stream",
     "text": [
      "ENG to ENG 10%\n",
      "baseline = 52.9\n",
      "rnn = 50.6\n",
      "gru = 50.5\n",
      "lstm = 52.8\n",
      "bert = 66.3\n"
     ]
    }
   ],
   "source": [
    "baseline = [50.1, 50.0, 50.2, 62.5, 50.6, 55.4, 51.8]\n",
    "rnn = [50.0, 50.0, 50.4, 50.1, 50.0, 54.0, 50.0]\n",
    "gru = [50.2, 50.0, 50.5, 50.0, 50.1, 51.6, 51.2]\n",
    "lstm = [50.0, 50.0, 51.6, 50.0, 50.0, 67.4, 50.3]\n",
    "bert = [99.0, 50.0, 50.7, 60.6, 80.7,70.1, 52.8 ]\n",
    "\n",
    "assert len(baseline) == len(rnn) == len(gru) == len(lstm) == len(bert) \n",
    "\n",
    "baseline = np.mean(baseline)\n",
    "rnn = np.mean(rnn)\n",
    "gru = np.mean(gru)\n",
    "lstm = np.mean(lstm)\n",
    "bert = np.mean(bert)\n",
    "\n",
    "print(\"ENG to ENG 10%\")\n",
    "print(\"baseline = {:.1f}\".format(baseline))\n",
    "print(\"rnn = {:.1f}\".format(rnn))\n",
    "print(\"gru = {:.1f}\".format(gru))\n",
    "print(\"lstm = {:.1f}\".format(lstm))\n",
    "print(\"bert = {:.1f}\".format(bert))"
   ]
  },
  {
   "cell_type": "code",
   "execution_count": 10,
   "metadata": {},
   "outputs": [
    {
     "name": "stdout",
     "output_type": "stream",
     "text": [
      "ENG to ENG 20%\n",
      "baseline = 52.9\n",
      "rnn = 53.3\n",
      "gru = 54.9\n",
      "lstm = 53.2\n",
      "bert = 65.7\n"
     ]
    }
   ],
   "source": [
    "baseline = [51.3, 49.8, 50.4, 62.5, 50.6, 52.8, 52.8]\n",
    "rnn = [50.0, 50.0, 50.1, 50.0, 50.0, 73.0, 50.0]\n",
    "gru = [50.0, 50.0, 50.2, 62.5, 50.0, 67.9, 53.7 ]\n",
    "lstm = [50.0, 50.0, 50.6, 50.0, 50.1, 72.0, 50]\n",
    "bert = [50.0, 50.0, 99.4, 62.5, 50.0, 83.1, 65.0]\n",
    "\n",
    "\n",
    "assert len(baseline) == len(rnn) == len(gru) == len(lstm) == len(bert) \n",
    "\n",
    "baseline = np.mean(baseline)\n",
    "rnn = np.mean(rnn)\n",
    "gru = np.mean(gru)\n",
    "lstm = np.mean(lstm)\n",
    "bert = np.mean(bert)\n",
    "\n",
    "print(\"ENG to ENG 20%\")\n",
    "print(\"baseline = {:.1f}\".format(baseline))\n",
    "print(\"rnn = {:.1f}\".format(rnn))\n",
    "print(\"gru = {:.1f}\".format(gru))\n",
    "print(\"lstm = {:.1f}\".format(lstm))\n",
    "print(\"bert = {:.1f}\".format(bert))"
   ]
  },
  {
   "cell_type": "code",
   "execution_count": 11,
   "metadata": {},
   "outputs": [
    {
     "name": "stdout",
     "output_type": "stream",
     "text": [
      "ENG to ENG 30%\n",
      "baseline = 52.6\n",
      "rnn = 51.1\n",
      "gru = 56.7\n",
      "lstm = 50.7\n",
      "bert = 76.9\n"
     ]
    }
   ],
   "source": [
    "baseline = [51.6, 49.8, 50.1, 62.5, 48.9, 53.0, 52.6]\n",
    "rnn = [50.0, 50.0, 50.0,  50.0, 50.1, 57.3, 50.6]\n",
    "gru = [50.0, 50.2, 50.0, 62.3, 61.2, 70.8, 52.3]\n",
    "lstm = [50.1, 50.0, 50.1, 50.0, 50.0, 54.4, 50.0]\n",
    "bert = [90.6, 99.8, 99.9, 65.1, 50.0, 81.0, 51.8]\n",
    "\n",
    "\n",
    "assert len(baseline) == len(rnn) == len(gru) == len(lstm) == len(bert) \n",
    "\n",
    "baseline = np.mean(baseline)\n",
    "rnn = np.mean(rnn)\n",
    "gru = np.mean(gru)\n",
    "lstm = np.mean(lstm)\n",
    "bert = np.mean(bert)\n",
    "\n",
    "print(\"ENG to ENG 30%\")\n",
    "print(\"baseline = {:.1f}\".format(baseline))\n",
    "print(\"rnn = {:.1f}\".format(rnn))\n",
    "print(\"gru = {:.1f}\".format(gru))\n",
    "print(\"lstm = {:.1f}\".format(lstm))\n",
    "print(\"bert = {:.1f}\".format(bert))"
   ]
  },
  {
   "cell_type": "code",
   "execution_count": 12,
   "metadata": {},
   "outputs": [
    {
     "name": "stdout",
     "output_type": "stream",
     "text": [
      "ENG to ENG 40%\n",
      "baseline = 53.0\n",
      "rnn = 53.7\n",
      "gru = 52.7\n",
      "lstm = 51.6\n",
      "bert = 80.1\n"
     ]
    }
   ],
   "source": [
    "baseline = [51.1, 50.2, 50.5, 62.1, 49.9, 55.3, 52.2]\n",
    "rnn = [50.0, 50.2, 50.2, 50.1, 50.1, 74.1, 50.9]\n",
    "gru = [50.1, 50.0, 49.9, 64.1, 50.3, 53.5, 51.3]\n",
    "lstm = [50.0, 50.2, 50.3, 50.0 ,50.0, 60.4, 50.0]\n",
    "bert = [99.5, 99.7, 97.6, 64.2, 50.0, 77.7, 71.7]\n",
    "\n",
    "\n",
    "assert len(baseline) == len(rnn) == len(gru) == len(lstm) == len(bert) \n",
    "\n",
    "baseline = np.mean(baseline)\n",
    "rnn = np.mean(rnn)\n",
    "gru = np.mean(gru)\n",
    "lstm = np.mean(lstm)\n",
    "bert = np.mean(bert)\n",
    "\n",
    "print(\"ENG to ENG 40%\")\n",
    "print(\"baseline = {:.1f}\".format(baseline))\n",
    "print(\"rnn = {:.1f}\".format(rnn))\n",
    "print(\"gru = {:.1f}\".format(gru))\n",
    "print(\"lstm = {:.1f}\".format(lstm))\n",
    "print(\"bert = {:.1f}\".format(bert))"
   ]
  },
  {
   "cell_type": "code",
   "execution_count": 13,
   "metadata": {},
   "outputs": [
    {
     "name": "stdout",
     "output_type": "stream",
     "text": [
      "ENG to ENG 50%\n",
      "baseline = 53.5\n",
      "rnn = 52.1\n",
      "gru = 54.3\n",
      "lstm = 52.9\n",
      "bert = 81.5\n"
     ]
    }
   ],
   "source": [
    "baseline = [51.4, 50.4, 50.9, 62.7, 50.3, 55.5, 53.3]\n",
    "rnn = [50.0, 50.0, 50.0, 50.0, 50.0, 64.9, 50.0]\n",
    "gru = [50.0, 50.0, 50.0, 62.4, 50.0, 67.1, 50.3]\n",
    "lstm = [50.0, 50.0, 50.0, 50.0, 50.1, 69.9, 50.0]\n",
    "bert = [98.9, 99.8, 100.0, 89.0, 50.0, 78.1, 54.7]\n",
    "\n",
    "\n",
    "assert len(baseline) == len(rnn) == len(gru) == len(lstm) == len(bert) \n",
    "\n",
    "baseline = np.mean(baseline)\n",
    "rnn = np.mean(rnn)\n",
    "gru = np.mean(gru)\n",
    "lstm = np.mean(lstm)\n",
    "bert = np.mean(bert)\n",
    "\n",
    "print(\"ENG to ENG 50%\")\n",
    "print(\"baseline = {:.1f}\".format(baseline))\n",
    "print(\"rnn = {:.1f}\".format(rnn))\n",
    "print(\"gru = {:.1f}\".format(gru))\n",
    "print(\"lstm = {:.1f}\".format(lstm))\n",
    "print(\"bert = {:.1f}\".format(bert))"
   ]
  },
  {
   "cell_type": "code",
   "execution_count": 14,
   "metadata": {},
   "outputs": [
    {
     "name": "stdout",
     "output_type": "stream",
     "text": [
      "ENG to ENG 60%\n",
      "baseline = 53.2\n",
      "rnn = 51.6\n",
      "gru = 57.4\n",
      "lstm = 53.5\n",
      "bert = 93.3\n"
     ]
    }
   ],
   "source": [
    "baseline = [51.9, 50.6, 51.0, 62.4, 49.2, 54.4, 52.6]\n",
    "rnn = [50.1, 50.0, 51.7, 50.2, 50.1, 59.0, 50.0]\n",
    "gru = [50.6, 50.2, 50.3, 68.6, 50.0, 79.7, 52.3]\n",
    "lstm = [50.0, 50.0, 50.0, 50.0, 50.0, 74.8, 50.0]\n",
    "bert = [98.4, 99.8, 100, 88.2, 98.6, 86.5, 81.7]\n",
    "\n",
    "\n",
    "assert len(baseline) == len(rnn) == len(gru) == len(lstm) == len(bert) \n",
    "\n",
    "baseline = np.mean(baseline)\n",
    "rnn = np.mean(rnn)\n",
    "gru = np.mean(gru)\n",
    "lstm = np.mean(lstm)\n",
    "bert = np.mean(bert)\n",
    "\n",
    "print(\"ENG to ENG 60%\")\n",
    "print(\"baseline = {:.1f}\".format(baseline))\n",
    "print(\"rnn = {:.1f}\".format(rnn))\n",
    "print(\"gru = {:.1f}\".format(gru))\n",
    "print(\"lstm = {:.1f}\".format(lstm))\n",
    "print(\"bert = {:.1f}\".format(bert))"
   ]
  },
  {
   "cell_type": "code",
   "execution_count": 15,
   "metadata": {},
   "outputs": [
    {
     "name": "stdout",
     "output_type": "stream",
     "text": [
      "ENG to ENG 70%\n",
      "baseline = 53.4\n",
      "rnn = 52.0\n",
      "gru = 52.9\n",
      "lstm = 53.9\n",
      "bert = 94.3\n"
     ]
    }
   ],
   "source": [
    "baseline = [51.8, 50.4, 50.4, 63.0, 49.4, 55.4, 53.7]\n",
    "rnn =  [50.0, 50.0, 50.0, 50.3, 50.0, 63.6, 50.1]\n",
    "gru =  [50.6, 50.0, 50.0, 62.9, 50.1, 55.7, 51.2]\n",
    "lstm = [50.1, 50.2, 50.6, 65.3, 50.2, 61.2, 50.0]\n",
    "bert = [99.8, 99.8, 100, 89.5, 100, 79.7, 91.1]\n",
    "\n",
    "\n",
    "assert len(baseline) == len(rnn) == len(gru) == len(lstm) == len(bert) \n",
    "\n",
    "baseline = np.mean(baseline)\n",
    "rnn = np.mean(rnn)\n",
    "gru = np.mean(gru)\n",
    "lstm = np.mean(lstm)\n",
    "bert = np.mean(bert)\n",
    "\n",
    "print(\"ENG to ENG 70%\")\n",
    "print(\"baseline = {:.1f}\".format(baseline))\n",
    "print(\"rnn = {:.1f}\".format(rnn))\n",
    "print(\"gru = {:.1f}\".format(gru))\n",
    "print(\"lstm = {:.1f}\".format(lstm))\n",
    "print(\"bert = {:.1f}\".format(bert))"
   ]
  },
  {
   "cell_type": "code",
   "execution_count": 16,
   "metadata": {},
   "outputs": [
    {
     "name": "stdout",
     "output_type": "stream",
     "text": [
      "ENG to ENG 80%\n",
      "baseline = 53.8\n",
      "rnn = 54.1\n",
      "gru = 54.6\n",
      "lstm = 53.9\n",
      "bert = 94.6\n"
     ]
    }
   ],
   "source": [
    "baseline = [51.8, 50.1, 52.2, 63.3, 50.0, 55.3, 53.6]\n",
    "rnn =  [50.0, 50.0, 50.0, 50.0, 50.0, 79.0, 50.0]\n",
    "gru =  [51.3, 50.1, 51.5, 63.2, 50.5, 63.8, 51.6]\n",
    "lstm = [50.2, 50.0, 50.2, 50.4, 50.1, 76.4, 50.0]\n",
    "bert = [99.5, 100, 100, 83.7, 100, 84.2, 94.6]\n",
    "\n",
    "\n",
    "assert len(baseline) == len(rnn) == len(gru) == len(lstm) == len(bert) \n",
    "\n",
    "baseline = np.mean(baseline)\n",
    "rnn = np.mean(rnn)\n",
    "gru = np.mean(gru)\n",
    "lstm = np.mean(lstm)\n",
    "bert = np.mean(bert)\n",
    "\n",
    "print(\"ENG to ENG 80%\")\n",
    "print(\"baseline = {:.1f}\".format(baseline))\n",
    "print(\"rnn = {:.1f}\".format(rnn))\n",
    "print(\"gru = {:.1f}\".format(gru))\n",
    "print(\"lstm = {:.1f}\".format(lstm))\n",
    "print(\"bert = {:.1f}\".format(bert))"
   ]
  },
  {
   "cell_type": "code",
   "execution_count": 17,
   "metadata": {},
   "outputs": [
    {
     "name": "stdout",
     "output_type": "stream",
     "text": [
      "ENG to ENG 90%\n",
      "baseline = 53.4\n",
      "rnn = 53.1\n",
      "gru = 55.6\n",
      "lstm = 56.8\n",
      "bert = 92.6\n"
     ]
    }
   ],
   "source": [
    "baseline = [51.9, 50.4, 50.4, 62.5, 50.0, 54.5, 54.1]\n",
    "rnn =  [50.0, 50.1, 50.4, 50.0, 50.0, 71.0, 50.3]\n",
    "gru =  [52.0, 50.2, 51.2, 64.4, 50.2, 68.2, 52.8]\n",
    "lstm = [50.0, 50.2, 50.5, 50.0, 50.1, 96.5, 50.0]\n",
    "bert = [99.2, 100, 100, 90.5, 100.0, 73.8, 84.7]\n",
    "\n",
    "\n",
    "\n",
    "assert len(baseline) == len(rnn) == len(gru) == len(lstm) == len(bert) \n",
    "\n",
    "baseline = np.mean(baseline)\n",
    "rnn = np.mean(rnn)\n",
    "gru = np.mean(gru)\n",
    "lstm = np.mean(lstm)\n",
    "bert = np.mean(bert)\n",
    "\n",
    "print(\"ENG to ENG 90%\")\n",
    "print(\"baseline = {:.1f}\".format(baseline))\n",
    "print(\"rnn = {:.1f}\".format(rnn))\n",
    "print(\"gru = {:.1f}\".format(gru))\n",
    "print(\"lstm = {:.1f}\".format(lstm))\n",
    "print(\"bert = {:.1f}\".format(bert))"
   ]
  },
  {
   "cell_type": "markdown",
   "metadata": {},
   "source": [
    "## Plot different models over train data size"
   ]
  },
  {
   "cell_type": "code",
   "execution_count": 18,
   "metadata": {},
   "outputs": [
    {
     "data": {
      "image/png": "[encoded data removed]",
      "text/plain": [
       "<Figure size 720x360 with 1 Axes>"
      ]
     },
     "metadata": {
      "needs_background": "light"
     },
     "output_type": "display_data"
    }
   ],
   "source": [
    "baseline = [52.9, 52.9, 52.9, 53, 53.5,53.2,53.4,53.8,53.4, 53.7]\n",
    "rnn = [50.6, 53.3, 51.1, 53.7, 52.1,51.6,52.0,54.1,53.1, 55.0]\n",
    "gru = [50.5, 54.9, 56.7, 52.7, 54.3,57.4,52.9,54.6,55.6, 57.9]\n",
    "lstm = [52.8, 53.2, 50.7, 51.6, 52.9,53.5,53.9,53.9,56.8, 54.0]\n",
    "bert = [66.3, 65.7, 76.9, 80.1, 81.5,93.3,94.3,94.6,92.6, 94.5]\n",
    "\n",
    "\n",
    "\n",
    "acc_models = np.array([baseline, rnn, gru, lstm, bert])\n",
    "sizes = range(10,110,10)\n",
    "df_model_acc = pd.DataFrame(acc_models.T,\n",
    "                            sizes,\n",
    "                            columns=[\"Baseline\", \"RNN\", \"GRU\", \"LSTM\", \"BERT_eng\"])\n",
    "plot_series(df_=df_model_acc,\n",
    "            title=\"\",\n",
    "            xlabel=\"Percentage of training data\",\n",
    "            ylabel=\"Accuracy\",\n",
    "            path=\"results/acc_per_model.png\",\n",
    "            figsize=(10, 5))"
   ]
  },
  {
   "cell_type": "markdown",
   "metadata": {},
   "source": [
    "## Using different pre-trained versions of BERT"
   ]
  },
  {
   "cell_type": "code",
   "execution_count": 19,
   "metadata": {},
   "outputs": [
    {
     "data": {
      "text/plain": [
       "[73.6, 76.9, 76.4, 89.8, 86.8, 90.3, 88.1, 93.0, 92.8, 92.5]"
      ]
     },
     "execution_count": 19,
     "metadata": {},
     "output_type": "execute_result"
    }
   ],
   "source": [
    "# multi -> pt \n",
    "\n",
    "SN = [98.8, 99.5, 50.0, 99.9, 99.7, 99.9, 100, 100, 100, 100]\n",
    "BC = [50.0, 50.0, 99.9, 100, 100, 100, 99.7, 100, 100, 99.9]\n",
    "DD = [99.7, 100, 99.8] + [100]*7\n",
    "Q = [73.9, 62.9, 73.2, 74.2, 75.4, 78.7, 75.4, 77.9, 79.5, 75.4]\n",
    "Comp = [79.5, 98.6, 93.0,99.7, 99.2, 99.2, 96.3, 100, 99.8, 99.5]\n",
    "Count = [64.6, 76.6, 67.6, 66.3, 50.0, 71.8, 81.4, 87.4, 77.7, 82.4]\n",
    "M = [48.9, 51.0, 51.1, 88.3, 83.6, 82.6, 63.6, 85.9, 92.8, 90.3]\n",
    "\n",
    "bert_mult =np.array([SN, BC, Q, DD, Comp, Count, M])\n",
    "bert_mult = [np.round(np.mean(bert_mult.T[i]), 1)  for i in range(bert_mult.shape[1])]\n",
    "bert_mult"
   ]
  },
  {
   "cell_type": "code",
   "execution_count": 20,
   "metadata": {},
   "outputs": [
    {
     "data": {
      "text/plain": [
       "[59.5, 53.7, 62.6, 77.5, 77.2, 83.4, 86.6, 90.9, 82.2, 91.4]"
      ]
     },
     "execution_count": 20,
     "metadata": {},
     "output_type": "execute_result"
    }
   ],
   "source": [
    "# eng -> pt\n",
    "\n",
    "SN = [50.0, 50.0, 99.7, 99.9, 50.0, 99.9, 99.8, 99.9, 99.9, 99.9]\n",
    "BC = [99.4, 99.7, 50.0, 99.8, 99.9, 99.8, 99.9, 99.9, 99.9, 99.9]\n",
    "DD = [50.0, 50.0, 50.0, 99.3, 100, 50.0, 100, 100, 50.0,100]\n",
    "Q = [50.0, 5.0, 62.5, 62.7, 82.9, 79.1, 80.6, 79.8, 62.5, 78.7]\n",
    "Comp = [50.0]*5 +[99.8, 99.6,99.0, 100, 99.8]\n",
    "Count = [68.1, 72.2, 75.1, 79.5, 74.8, 75.5, 74.9, 76.0, 79.4, 79.1]\n",
    "M = [48.9, 48.9, 51.1, 51.1, 83.0, 79.6, 51.1, 81.9, 83.5, 82.7]\n",
    "\n",
    "bert_eng =np.array([SN, BC, Q, DD, Comp, Count, M])\n",
    "bert_eng = [np.round(np.mean(bert_eng.T[i]), 1)  for i in range(bert_eng.shape[1])]\n",
    "bert_eng"
   ]
  },
  {
   "cell_type": "code",
   "execution_count": 21,
   "metadata": {},
   "outputs": [
    {
     "data": {
      "text/plain": [
       "[50.2, 51.9, 57.2, 73.4, 71.4, 71.8, 67.3, 75.1, 69.0, 73.8]"
      ]
     },
     "execution_count": 21,
     "metadata": {},
     "output_type": "execute_result"
    }
   ],
   "source": [
    "# chi -> pt \n",
    "\n",
    "SN = [50.0, 50.0, 99.2, 98.7, 99.4, 99.4, 98.7, 99.3, 33.5, 99.4]\n",
    "BC = [50.0, 50.0, 50.0, 99.3, 99.6, 99.5, 50.0, 99.4, 99.4, 99.5]\n",
    "DD = [50.0, 50.0, 50.0,99.9, 99.8, 99.7, 99.9, 99.8, 100,100]\n",
    "Q = [50]*7 + [62, 76.1, 50.0]\n",
    "Comp = [50]*7  + [49.6, 50.0, 50]\n",
    "Count = [50, 64.6, 50, 65, 50, 50, 71.3, 66.7, 75.1, 68.9]\n",
    "M = [51.1, 48.9, 51.1, 51.1, 51.1, 54.3, 51.1, 48.9, 48.9, 48.9]\n",
    "\n",
    "bert_chi =np.array([SN, BC, Q, DD, Comp, Count, M])\n",
    "bert_chi = [np.round(np.mean(bert_chi.T[i]), 1)  for i in range(bert_chi.shape[1])]\n",
    "bert_chi"
   ]
  },
  {
   "cell_type": "code",
   "execution_count": 22,
   "metadata": {},
   "outputs": [
    {
     "data": {
      "image/png": "[encoded data removed]",
      "text/plain": [
       "<Figure size 720x360 with 1 Axes>"
      ]
     },
     "metadata": {},
     "output_type": "display_data"
    }
   ],
   "source": [
    "acc_models = np.array([bert_mult, bert_eng, bert_chi])\n",
    "sizes = range(10,110,10)\n",
    "df_model_acc = pd.DataFrame(acc_models.T,\n",
    "                            sizes,\n",
    "                            columns=[\"BERT_mult\", \"BERT_eng\",  \"BERT_chi\"])\n",
    "plot_series(df_=df_model_acc,\n",
    "            title=\"\",\n",
    "            xlabel=\"Percentage of training data\",\n",
    "            ylabel=\"Accuracy\",\n",
    "            path=\"results/acc_per_BERT.png\",\n",
    "            figsize=(10, 5))"
   ]
  },
  {
   "cell_type": "markdown",
   "metadata": {},
   "source": [
    "## Plot BERT performance on tasks over train data size"
   ]
  },
  {
   "cell_type": "code",
   "execution_count": 23,
   "metadata": {},
   "outputs": [],
   "source": [
    "# SN = [50.0, 50.0, 90.6, 99.5, 98.9,98.4,99.8,99.5,99.2, 99.7]\n",
    "# BC = [99.0, 50.0, 99.8, 99.7, 99.8,99.8,99.8,100,100, 100]\n",
    "# DD = [50.7, 99.4, 99.9, 97.6, 100,100,100,100,100, 100]\n",
    "# Q = [60.6, 62.9, 65.1, 64.2, 89.0,88.2,89.5,83.7,90.5, 84.4]\n",
    "# Comp = [80.7, 50.0, 65.1, 50.0, 50.0,98.6,100,100,50, 99.7]\n",
    "# Count = [70.1, 83.1, 81.0, 77.7, 78.1,86.5, 79.7, 84.2,73.8, 87.5]\n",
    "# M = [52.8, 65.0, 51.8, 71.7, 54.7,81.7,91.1,94.6,84.7, 90.0]\n",
    "\n",
    "\n",
    "# acc_list = [SN, BC, Q, DD, Comp, Count, M]\n",
    "\n",
    "# labels = [\"Task 1\", \"Task 2\",\"Task 3\", \"Task 4\", \"Task 5\", \"Task 6\", \"Task 7\"]\n",
    "# x_ = [str(i) for i in range(10,110,10)]"
   ]
  },
  {
   "cell_type": "code",
   "execution_count": 24,
   "metadata": {},
   "outputs": [
    {
     "data": {
      "image/png": "[encoded data removed]",
      "text/plain": [
       "<Figure size 720x360 with 1 Axes>"
      ]
     },
     "metadata": {},
     "output_type": "display_data"
    }
   ],
   "source": [
    "Q = [60.6, 62.9, 65.1, 64.2, 89.0,88.2,89.5,83.7,90, 84.4]\n",
    "Count = [70.1, 83.1, 81.0, 77.7, 78.1,86.5, 79.7, 84.2,73.8, 87.5]\n",
    "mean = [66.3, 65.7, 76.9, 80.1, 81.5,93.3,94.3,94.6,92.6, 94.5]\n",
    "\n",
    "\n",
    "acc_list = [Q, Count, mean]\n",
    "\n",
    "labels = [\"Task 3\", \"Task 6\", \"average\"]\n",
    "x_ = [str(i) for i in range(10,110,10)]\n",
    "\n",
    "acc_tasks = np.array([mean, Q, Count])\n",
    "sizes = range(10,110,10)\n",
    "df_task_acc = pd.DataFrame(acc_tasks.T,\n",
    "                           sizes,\n",
    "                            columns=[\"Average\", \"Task 3\", \"Task 6\"])\n",
    "\n",
    "plot_series(df_=df_task_acc,\n",
    "            title=\"\",\n",
    "            xlabel=\"Percentage of training data\",\n",
    "            ylabel=\"Accuracy\",\n",
    "            path=\"results/acc_per_task.png\",\n",
    "            figsize=(10, 5))\n"
   ]
  },
  {
   "cell_type": "markdown",
   "metadata": {},
   "source": [
    "## NOISE label"
   ]
  },
  {
   "cell_type": "code",
   "execution_count": 25,
   "metadata": {},
   "outputs": [
    {
     "data": {
      "text/plain": [
       "[50.3, 50.7, 50.1, 50.6, 50.3, 49.6, 50.8, 50.6, 51.0, 50.1]"
      ]
     },
     "execution_count": 25,
     "metadata": {},
     "output_type": "execute_result"
    }
   ],
   "source": [
    "SN = [51.7, 51.7, 51.7, 51.7, 51.7, 47.5, 48.3, 48.3, 51.7, 48.9]\n",
    "BC = [48.9, 51.1, 51.1, 51.0, 51.1, 48.9, 52.5, 51.5, 51.5, 48.7]\n",
    "DD = [ 50.3,  50.3,  50.3, 49.7, 49.7, 49.8, 50.3,  50.3,  50.3, 50.3]\n",
    "Q = [51.4, 51.4, 48.6, 51.7, 49.7, 48.6, 52.1, 53.1, 52.9, 51.8]\n",
    "Comp = [50,50,49.1,50,50,50,50,50,50,50]\n",
    "Count = [50.6, 49.4, 50.3, 49.4, 49.4, 49.4, 50.2, 49.4, 50.2, 49.6]\n",
    "M = [49.3,50.7,49.3,50.7,50.7,52.9,52.0,51.3,50.5,51.2]\n",
    "\n",
    "noise =np.array([SN, BC, Q, DD, Comp, Count, M])\n",
    "NOISE = [np.round(np.mean(noise.T[i]), 1)  for i in range(noise.shape[1])]\n",
    "NOISE"
   ]
  },
  {
   "cell_type": "markdown",
   "metadata": {},
   "source": [
    "## Shuffle sentence"
   ]
  },
  {
   "cell_type": "code",
   "execution_count": 26,
   "metadata": {},
   "outputs": [
    {
     "name": "stdout",
     "output_type": "stream",
     "text": [
      "[52.4, 58.9, 70.8, 81.8, 82.2, 83.9, 75.6, 84.2, 84.3, 84.8]\n",
      "[66.3, 65.7, 76.9, 80.1, 81.5, 93.3, 94.3, 94.6, 92.6, 94.5]\n"
     ]
    }
   ],
   "source": [
    "SN = [50.0,50.0,95.4,94.3,94.9,96.2,94.1,96.5,98.8,97.8]\n",
    "BC = [50.0, 50.0, 100.0, 99.9, 99.7, 100.0, 99.5, 100.0,100.0,100]\n",
    "DD = [50.0, 50.0, 50.0, 99.4, 99.5, 99.7, 50.0, 99.8, 99.8, 99.9]\n",
    "Q = [50.0, 75.5, 78.7, 79.0, 83.1, 82.3, 83.8, 83.4, 82.5, 83.8]\n",
    "Comp = [50]*8 + [48.5, 50.0]\n",
    "Count = [66.1, 84.6, 69.0, 78.7, 73.4, 78.8, 76.3, 77.4, 80.5, 79.5]\n",
    "M = [50.4, 52.1, 52.5, 71.3, 75.1, 80.5, 75.3, 82.3, 79.8, 82.3]\n",
    "\n",
    "shuff = np.array([SN, BC, Q, DD, Comp, Count, M])\n",
    "SHUFF = [np.round(np.mean(shuff.T[i]), 1)  for i in range(shuff.shape[1])]\n",
    "NORMAL = [66.3, 65.7, 76.9, 80.1, 81.5,93.3,94.3,94.6,92.6, 94.5]\n",
    "\n",
    "print(SHUFF)\n",
    "print(NORMAL)"
   ]
  },
  {
   "cell_type": "markdown",
   "metadata": {},
   "source": [
    "## Premisse only"
   ]
  },
  {
   "cell_type": "code",
   "execution_count": 27,
   "metadata": {},
   "outputs": [
    {
     "data": {
      "text/plain": [
       "[51.8, 49.9, 51.8, 52.2, 51.8, 51.9, 51.2, 51.2, 52.0, 52.1]"
      ]
     },
     "execution_count": 27,
     "metadata": {},
     "output_type": "execute_result"
    }
   ],
   "source": [
    "SN = [50.0,51.0,50.0,50.0,50.1,50.0,49.7,46.9,49.9,50.2]\n",
    "BC = [50.0, 50.0, 50.0, 50.0, 50.0, 49.4, 48.2, 50.5,50.4,50.8]\n",
    "DD = [50.0, 50.0, 50.0, 50.0, 50.0,50.0,50.0, 49.9,50.0, 50.0]\n",
    "Q = [62.5, 50.0, 62.5, 62.5, 62.5, 62.5, 62.5, 62.5, 60.0, 61.2]\n",
    "Comp = [50.1, 50.0, 50.0, 50.0, 50.0, 50.0, 49.2, 49.0, 50.0, 50.0]\n",
    "Count = [50.0, 50.0, 50.0, 50.0, 50.0, 49.5, 47.3, 50.0, 50.6, 50.4]\n",
    "M = [50.0, 48.2, 50.0, 52.7, 50.2, 51.8, 51.2, 49.8, 53.0, 52.1]\n",
    "\n",
    "shuff = np.array([SN, BC, Q, DD, Comp, Count, M])\n",
    "BBonly = [np.round(np.mean(shuff.T[i]), 1)  for i in range(shuff.shape[1])]\n",
    "BBonly"
   ]
  },
  {
   "cell_type": "markdown",
   "metadata": {},
   "source": [
    "## Hyphotesis only"
   ]
  },
  {
   "cell_type": "code",
   "execution_count": 28,
   "metadata": {},
   "outputs": [
    {
     "data": {
      "text/plain": [
       "[53.0, 53.2, 53.2, 53.3, 53.3, 53.0, 52.9, 52.9, 53.3, 53.1]"
      ]
     },
     "execution_count": 28,
     "metadata": {},
     "output_type": "execute_result"
    }
   ],
   "source": [
    "SN = [50.0,50.0, 50.0, 50.4, 50.0, 50.0, 48.1, 50.0, 49.6,47.9]\n",
    "BC = [50.0, 50.0, 50.0, 50.0, 50.7, 50.0, 50.0,50.0, 47.8, 49.8]\n",
    "DD = [50.0]*7 +[49.6, 49.9, 50.0]\n",
    "Q = [50.0]*5 + [49.0, 50.0, 50.0, 50.1, 51.1]\n",
    "Comp = [50.0]*8 +[53.4, 50.0]\n",
    "Count = [68.4, 69.8, 69.4, 70, 69.6, 69.7, 69.5, 69.2, 69.8, 69.9]\n",
    "M = [52.8, 52.7, 53.0, 52.5, 52.9, 52.3, 52.8, 51.3, 52.4, 52.7]\n",
    "\n",
    "shuff = np.array([SN, BC, Q, DD, Comp, Count, M])\n",
    "NIonly = [np.round(np.mean(shuff.T[i]), 1)  for i in range(shuff.shape[1])]\n",
    "NIonly"
   ]
  },
  {
   "cell_type": "markdown",
   "metadata": {},
   "source": [
    "## Plot BERT performance on noise over train data size"
   ]
  },
  {
   "cell_type": "code",
   "execution_count": 29,
   "metadata": {},
   "outputs": [
    {
     "data": {
      "image/png": "[encoded data removed]",
      "text/plain": [
       "<Figure size 720x360 with 1 Axes>"
      ]
     },
     "metadata": {},
     "output_type": "display_data"
    }
   ],
   "source": [
    "acc_list = [NORMAL, NOISE,BBonly, NIonly]\n",
    "\n",
    "labels = [\"Normal\", \"Noise label\", \"Premisse only\", \"Hypothesis only\"]\n",
    "x_ = [str(i) for i in range(10,110,10)]\n",
    "\n",
    "acc_perturbation = np.array([NORMAL, NOISE, BBonly, NIonly])\n",
    "sizes = range(10,110,10)\n",
    "df_perturbation = pd.DataFrame(acc_perturbation.T,\n",
    "                               sizes,\n",
    "                               columns=[\"Normal\",\n",
    "                                        \"Noise label\",\n",
    "                                        \"Premisse only\",\n",
    "                                        \"Hypothesis only\"])\n",
    "\n",
    "plot_series(df_=df_perturbation,\n",
    "            title=\"\",\n",
    "            xlabel=\"Percentage of training data\",\n",
    "            ylabel=\"Accuracy\",\n",
    "            path=\"results/acc_perturbation.png\",\n",
    "            figsize=(10, 5))\n"
   ]
  },
  {
   "cell_type": "code",
   "execution_count": 30,
   "metadata": {},
   "outputs": [
    {
     "data": {
      "text/plain": [
       "92.2"
      ]
     },
     "execution_count": 30,
     "metadata": {},
     "output_type": "execute_result"
    }
   ],
   "source": [
    "# bert mult\n",
    "np.round(np.mean([99.9,99.9,82.9,100,100,79.5,83.5]),1)"
   ]
  },
  {
   "cell_type": "code",
   "execution_count": 31,
   "metadata": {},
   "outputs": [
    {
     "data": {
      "text/plain": [
       "79.2"
      ]
     },
     "execution_count": 31,
     "metadata": {},
     "output_type": "execute_result"
    }
   ],
   "source": [
    "# bert chi\n",
    "np.round(np.mean([99.5,99.6,76.1,100,50.0,75,54.3]),1)\n"
   ]
  },
  {
   "cell_type": "code",
   "execution_count": null,
   "metadata": {},
   "outputs": [],
   "source": []
  }
 ],
 "metadata": {
  "kernelspec": {
   "display_name": "Python 3",
   "language": "python",
   "name": "python3"
  },
  "language_info": {
   "codemirror_mode": {
    "name": "ipython",
    "version": 3
   },
   "file_extension": ".py",
   "mimetype": "text/x-python",
   "name": "python",
   "nbconvert_exporter": "python",
   "pygments_lexer": "ipython3",
   "version": "3.6.8"
  }
 },
 "nbformat": 4,
 "nbformat_minor": 2
}
